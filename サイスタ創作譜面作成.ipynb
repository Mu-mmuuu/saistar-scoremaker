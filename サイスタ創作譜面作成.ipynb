{
 "cells": [
  {
   "cell_type": "code",
   "execution_count": 41,
   "id": "06acd5d5",
   "metadata": {
    "scrolled": true
   },
   "outputs": [],
   "source": [
    "import cv2\n",
    "\n",
    "# 画像の読み込み\n",
    "background = cv2.imread(\"background.png\")\n",
    "objectA = cv2.imread(\"objectA.png\", -1)\n",
    "width, height, channels = background.shape[:3]\n",
    "\n",
    "# 移動開始位置と移動終了位置\n",
    "start_pos = (height*0.5, width*0.1)\n",
    "end_pos = (height*0.5, width*0.9)\n",
    "\n",
    "# 総フレーム数と1フレームあたりの時間(ms)\n",
    "total_frames = 30\n",
    "time_per_frame = 33\n",
    "\n",
    "# 移動距離を計算\n",
    "dx = (end_pos[0] - start_pos[0]) / total_frames\n",
    "dy = (end_pos[1] - start_pos[1]) / total_frames\n",
    "\n",
    "# 出力する動画の設定\n",
    "fourcc = cv2.VideoWriter_fourcc(*\"mp4v\")\n",
    "output = cv2.VideoWriter(\"output.mp4\", fourcc, 30.0, (background.shape[1], background.shape[0]))\n",
    "\n",
    "# Aの移動を反映した各フレームを生成して動画に書き込む\n",
    "for i in range(total_frames):\n",
    "    # Aを移動させた画像を生成\n",
    "    x = int(start_pos[0] + i * dx)\n",
    "    y = int(start_pos[1] + i * dy)\n",
    "    overlay = background.copy()\n",
    "    alpha = objectA[:,:,3] / 255.0\n",
    "    for c in range(3):\n",
    "      overlay[y:y+objectA.shape[0], x:x+objectA.shape[1], c] = (\n",
    "          alpha * objectA[:, :, c] +\n",
    "          (1 - alpha) * overlay[y:y+objectA.shape[0], x:x+objectA.shape[1], c]\n",
    "      )\n",
    "    # 動画に書き込む\n",
    "    output.write(overlay)\n",
    "\n",
    "# 出力動画を保存して、後始末\n",
    "output.release()\n",
    "cv2.destroyAllWindows()\n"
   ]
  }
 ],
 "metadata": {
  "kernelspec": {
   "display_name": "Python 3 (ipykernel)",
   "language": "python",
   "name": "python3"
  },
  "language_info": {
   "codemirror_mode": {
    "name": "ipython",
    "version": 3
   },
   "file_extension": ".py",
   "mimetype": "text/x-python",
   "name": "python",
   "nbconvert_exporter": "python",
   "pygments_lexer": "ipython3",
   "version": "3.7.9"
  },
  "vscode": {
   "interpreter": {
    "hash": "5109d816b82be14675a6b11f8e0f0d2e80f029176ed3710d54e125caa8520dfd"
   }
  }
 },
 "nbformat": 4,
 "nbformat_minor": 5
}
