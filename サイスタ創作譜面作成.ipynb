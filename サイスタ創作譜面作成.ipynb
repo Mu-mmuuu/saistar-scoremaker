{
 "cells": [
  {
   "cell_type": "code",
   "execution_count": 24,
   "id": "06acd5d5",
   "metadata": {
    "scrolled": true
   },
   "outputs": [],
   "source": [
    "import cv2\n",
    "\n",
    "background = cv2.imread(\"background.png\")\n",
    "background = (background * 0.4).astype(\"uint8\")\n",
    "\n",
    "objectA = cv2.imread(\"objectA.png\", -1)\n",
    "width, height, channels = background.shape[:3]\n",
    "object_height = objectA.shape[0]\n",
    "\n",
    "start_pos = (height*0.5, width*0.1)\n",
    "end_pos = (height*0.5, width*0.9)\n",
    "\n",
    "total_frames = 30\n",
    "plus_frames = 30\n",
    "\n",
    "dx = (end_pos[0] - start_pos[0]) / total_frames\n",
    "dy = (end_pos[1] - start_pos[1]) / total_frames\n",
    "\n",
    "fourcc = cv2.VideoWriter_fourcc(*\"mp4v\")\n",
    "output = cv2.VideoWriter(\"output.mp4\", fourcc, 30.0, (background.shape[1], background.shape[0]))\n",
    "\n",
    "for i in range(int(plus_frames/2)):\n",
    "    background_copy = background.copy()\n",
    "    output.write(background_copy)\n",
    "for i in range(total_frames):\n",
    "    background_copy = background.copy()\n",
    "    size_ratio = 0.2 + i / total_frames * 0.8\n",
    "    objectA_resized = cv2.resize(objectA, (0, 0), fx=size_ratio, fy=size_ratio)\n",
    "    x = int(start_pos[0] + i * dx - objectA_resized.shape[0]/2)\n",
    "    y = int(start_pos[1] + i * dy - objectA_resized.shape[1]/2)\n",
    "    roi = background_copy[y:y+objectA_resized.shape[0], x:x+objectA_resized.shape[1]]\n",
    "    alpha = objectA_resized[:,:,3] / 255.0\n",
    "    for c in range(3):\n",
    "        roi[:, :, c] = alpha * objectA_resized[:, :, c] + (1 - alpha) * roi[:, :, c]\n",
    "    background_copy[y:y+objectA_resized.shape[0], x:x+objectA_resized.shape[1]] = roi\n",
    "    output.write(background_copy)\n",
    "for i in range(plus_frames):\n",
    "    background_copy = background.copy()\n",
    "    output.write(background_copy)\n",
    "\n",
    "for i in range(total_frames):\n",
    "    background_copy = background.copy()\n",
    "    size_ratio = 0.2 + i / total_frames * 0.8\n",
    "    objectA_resized = cv2.resize(objectA, (0, 0), fx=size_ratio, fy=size_ratio)\n",
    "    x = int(start_pos[0] + i * dx - objectA_resized.shape[0]/2)\n",
    "    y = int(start_pos[1] + i * dy - objectA_resized.shape[1]/2)\n",
    "    roi = background_copy[y:y+objectA_resized.shape[0], x:x+objectA_resized.shape[1]]\n",
    "    alpha = objectA_resized[:,:,3] / 255.0\n",
    "    for c in range(3):\n",
    "        roi[:, :, c] = alpha * objectA_resized[:, :, c] + (1 - alpha) * roi[:, :, c]\n",
    "    background_copy[y:y+objectA_resized.shape[0], x:x+objectA_resized.shape[1]] = roi\n",
    "    output.write(background_copy)\n",
    "for i in range(plus_frames):\n",
    "    background_copy = background.copy()\n",
    "    output.write(background_copy)\n",
    "\n",
    "output.release()\n",
    "cv2.destroyAllWindows()\n"
   ]
  }
 ],
 "metadata": {
  "kernelspec": {
   "display_name": "Python 3 (ipykernel)",
   "language": "python",
   "name": "python3"
  },
  "language_info": {
   "codemirror_mode": {
    "name": "ipython",
    "version": 3
   },
   "file_extension": ".py",
   "mimetype": "text/x-python",
   "name": "python",
   "nbconvert_exporter": "python",
   "pygments_lexer": "ipython3",
   "version": "3.7.9"
  },
  "vscode": {
   "interpreter": {
    "hash": "5109d816b82be14675a6b11f8e0f0d2e80f029176ed3710d54e125caa8520dfd"
   }
  }
 },
 "nbformat": 4,
 "nbformat_minor": 5
}
