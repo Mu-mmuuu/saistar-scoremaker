{
 "cells": [
  {
   "cell_type": "code",
   "execution_count": 4,
   "id": "06acd5d5",
   "metadata": {
    "scrolled": true
   },
   "outputs": [],
   "source": [
    "import cv2\n",
    "import os\n",
    "from moviepy.editor import *\n",
    "\n",
    "background = cv2.imread(\"layout3.png\")\n",
    "background = (background * 1).astype(\"uint8\")\n",
    "\n",
    "objectA = cv2.imread(\"objectA.png\", -1)\n",
    "width, height, channels = background.shape[:3]\n",
    "object_height = objectA.shape[0]\n",
    "\n",
    "start_pos = ([height*0.49,height*0.495,height*0.5,height*0.505,height*0.51], width*0.15)\n",
    "end_pos = ([height*0.27,height*0.39,height*0.5,height*0.61,height*0.73], width*0.75)\n",
    "\n",
    "total_frames = 300\n",
    "plus_frames = 60\n",
    "\n",
    "dy = (end_pos[1] - start_pos[1]) / plus_frames\n",
    "\n",
    "def empty_frame(total_frames):\n",
    "    fourcc = cv2.VideoWriter_fourcc(*\"mp4v\")\n",
    "    output = cv2.VideoWriter(\"score.mp4\", fourcc, 60.0, (background.shape[1], background.shape[0]),True)\n",
    "    for i in range(total_frames):\n",
    "        background_copy = background.copy()\n",
    "        output.write(background_copy)\n",
    "    output.release()\n",
    "\n",
    "def write_notes(total_frames, timing, lane,readfile,filename):\n",
    "    cap = cv2.VideoCapture(readfile+\".mp4\")\n",
    "    fourcc = cv2.VideoWriter_fourcc(*\"mp4v\")\n",
    "    output = cv2.VideoWriter(filename+\".mp4\", fourcc, 60.0, (background.shape[1], background.shape[0]),True)\n",
    "    for i in range(total_frames):\n",
    "        ret, frame = cap.read()\n",
    "        if timing <= i < timing + plus_frames:\n",
    "            dx = (end_pos[0][lane - 1] - start_pos[0][lane - 1]) / plus_frames\n",
    "            size_ratio = 0.2 + (i - timing) / plus_frames * 0.8\n",
    "            objectA_resized = cv2.resize(objectA, (0, 0), fx=size_ratio, fy=size_ratio)\n",
    "            x = int(start_pos[0][lane - 1] + (i - timing) * dx - objectA_resized.shape[0] / 2)\n",
    "            y = int(start_pos[1] + (i - timing) * dy - objectA_resized.shape[1] / 2)\n",
    "            roi = frame[y:y + objectA_resized.shape[0], x:x + objectA_resized.shape[1]]\n",
    "            alpha = objectA_resized[:, :, 3] / 255.0\n",
    "            for c in range(3):\n",
    "                roi[:, :, c] = alpha * objectA_resized[:, :, c] + (1 - alpha) * roi[:, :, c]\n",
    "            frame[y:y + objectA_resized.shape[0], x:x + objectA_resized.shape[1]] = roi\n",
    "        output.write(frame)\n",
    "    output.release()\n",
    "    \n",
    "\n",
    "empty_frame(total_frames)\n",
    "write_notes(total_frames,60,1,\"score\",\"lane1\")\n",
    "write_notes(total_frames,60,5,\"lane1\",\"lane5\")\n",
    "write_notes(total_frames,120,2,\"lane5\",\"lane2\")\n",
    "write_notes(total_frames,120,4,\"lane2\",\"lane4\")\n",
    "write_notes(total_frames,200,3,\"lane4\",\"サイスタ創作譜面\")\n",
    "\n",
    "os.remove(\"score.mp4\")\n",
    "os.remove(\"lane1.mp4\")\n",
    "os.remove(\"lane5.mp4\")\n",
    "os.remove(\"lane2.mp4\")\n",
    "os.remove(\"lane4.mp4\")\n",
    "cv2.destroyAllWindows()"
   ]
  }
 ],
 "metadata": {
  "kernelspec": {
   "display_name": "Python 3 (ipykernel)",
   "language": "python",
   "name": "python3"
  },
  "language_info": {
   "codemirror_mode": {
    "name": "ipython",
    "version": 3
   },
   "file_extension": ".py",
   "mimetype": "text/x-python",
   "name": "python",
   "nbconvert_exporter": "python",
   "pygments_lexer": "ipython3",
   "version": "3.7.9"
  },
  "vscode": {
   "interpreter": {
    "hash": "5109d816b82be14675a6b11f8e0f0d2e80f029176ed3710d54e125caa8520dfd"
   }
  }
 },
 "nbformat": 4,
 "nbformat_minor": 5
}
